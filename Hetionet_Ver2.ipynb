{
 "cells": [
  {
   "cell_type": "code",
   "execution_count": 2,
   "metadata": {},
   "outputs": [],
   "source": [
    "#import libraries and create connection to database through driver\n",
    "import pandas as pd\n",
    "from neo4j import GraphDatabase, basic_auth\n",
    "driver = GraphDatabase.driver(uri=\"bolt://localhost:7687\", auth=(\"neo4j\",\"password\"))\n",
    "session = driver.session()"
   ]
  },
  {
   "cell_type": "code",
   "execution_count": 7,
   "metadata": {},
   "outputs": [
    {
     "data": {
      "text/plain": [
       "<neo4j.work.result.Result at 0x7f8eb1f65e10>"
      ]
     },
     "execution_count": 7,
     "metadata": {},
     "output_type": "execute_result"
    }
   ],
   "source": [
    "#creating constraints on node kinds so there won't be duplicates\n",
    "session.run(\"CREATE CONSTRAINT ON (n:Gene) ASSERT n.node_id is unique\")"
   ]
  },
  {
   "cell_type": "code",
   "execution_count": 8,
   "metadata": {},
   "outputs": [
    {
     "data": {
      "text/plain": [
       "<neo4j.work.result.Result at 0x7f8eb5006630>"
      ]
     },
     "execution_count": 8,
     "metadata": {},
     "output_type": "execute_result"
    }
   ],
   "source": [
    "session.run(\"CREATE CONSTRAINT ON (n:Anatomy) ASSERT n.node_id is unique\")"
   ]
  },
  {
   "cell_type": "code",
   "execution_count": 9,
   "metadata": {},
   "outputs": [
    {
     "data": {
      "text/plain": [
       "<neo4j.work.result.Result at 0x7f8eb50067b8>"
      ]
     },
     "execution_count": 9,
     "metadata": {},
     "output_type": "execute_result"
    }
   ],
   "source": [
    "session.run(\"CREATE CONSTRAINT ON (n:Disease) ASSERT n.node_id is unique\")"
   ]
  },
  {
   "cell_type": "code",
   "execution_count": 10,
   "metadata": {},
   "outputs": [
    {
     "data": {
      "text/plain": [
       "<neo4j.work.result.Result at 0x7f8eb50891d0>"
      ]
     },
     "execution_count": 10,
     "metadata": {},
     "output_type": "execute_result"
    }
   ],
   "source": [
    "session.run(\"CREATE CONSTRAINT ON (n:Compound) ASSERT n.node_id is unique\")"
   ]
  },
  {
   "cell_type": "code",
   "execution_count": 3,
   "metadata": {},
   "outputs": [],
   "source": [
    "#load 2 tsv files, read them as csv and creating 2 dataframes\n",
    "nodes = pd.read_csv(\"nodes.tsv\", sep=\"\\t\")\n",
    "edges = pd.read_csv(\"edges.tsv\", sep=\"\\t\")"
   ]
  },
  {
   "cell_type": "code",
   "execution_count": 54,
   "metadata": {},
   "outputs": [
    {
     "data": {
      "text/plain": [
       "(1292203, 4)"
      ]
     },
     "execution_count": 54,
     "metadata": {},
     "output_type": "execute_result"
    }
   ],
   "source": [
    "edges.shape"
   ]
  },
  {
   "cell_type": "code",
   "execution_count": 53,
   "metadata": {},
   "outputs": [
    {
     "data": {
      "text/plain": [
       "(23036, 3)"
      ]
     },
     "execution_count": 53,
     "metadata": {},
     "output_type": "execute_result"
    }
   ],
   "source": [
    "nodes.shape"
   ]
  },
  {
   "cell_type": "code",
   "execution_count": 6,
   "metadata": {},
   "outputs": [
    {
     "data": {
      "text/plain": [
       "array(['Anatomy', 'Compound', 'Disease', 'Gene'], dtype=object)"
      ]
     },
     "execution_count": 6,
     "metadata": {},
     "output_type": "execute_result"
    }
   ],
   "source": [
    "#check to see how many different kinds there are\n",
    "nodes['kind'].unique()"
   ]
  },
  {
   "cell_type": "code",
   "execution_count": 56,
   "metadata": {},
   "outputs": [
    {
     "data": {
      "text/plain": [
       "(20945, 3)"
      ]
     },
     "execution_count": 56,
     "metadata": {},
     "output_type": "execute_result"
    }
   ],
   "source": [
    "nodes[nodes['kind']=='Gene'].shape"
   ]
  },
  {
   "cell_type": "code",
   "execution_count": 57,
   "metadata": {},
   "outputs": [
    {
     "data": {
      "text/plain": [
       "(402, 3)"
      ]
     },
     "execution_count": 57,
     "metadata": {},
     "output_type": "execute_result"
    }
   ],
   "source": [
    "nodes[nodes['kind']=='Anatomy'].shape"
   ]
  },
  {
   "cell_type": "code",
   "execution_count": 58,
   "metadata": {},
   "outputs": [
    {
     "data": {
      "text/plain": [
       "(137, 3)"
      ]
     },
     "execution_count": 58,
     "metadata": {},
     "output_type": "execute_result"
    }
   ],
   "source": [
    "nodes[nodes['kind']=='Disease'].shape"
   ]
  },
  {
   "cell_type": "code",
   "execution_count": 59,
   "metadata": {},
   "outputs": [
    {
     "data": {
      "text/plain": [
       "(1552, 3)"
      ]
     },
     "execution_count": 59,
     "metadata": {},
     "output_type": "execute_result"
    }
   ],
   "source": [
    "nodes[nodes['kind']=='Compound'].shape"
   ]
  },
  {
   "cell_type": "code",
   "execution_count": null,
   "metadata": {},
   "outputs": [],
   "source": []
  },
  {
   "cell_type": "code",
   "execution_count": 4,
   "metadata": {},
   "outputs": [],
   "source": [
    "#creating dataframes for each kind\n",
    "gene_nodes = nodes[nodes['kind'] == \"Gene\"]\n",
    "anatomy_nodes = nodes[nodes['kind'] == \"Anatomy\"]\n",
    "disease_nodes = nodes[nodes['kind'] == \"Disease\"]\n",
    "compound_nodes = nodes[nodes['kind'] == \"Compound\"]"
   ]
  },
  {
   "cell_type": "code",
   "execution_count": 12,
   "metadata": {},
   "outputs": [],
   "source": [
    "#convert these dataframes to lists\n",
    "gene_node_list = gene_nodes.values.tolist()\n",
    "anatomy_node_list = anatomy_nodes.values.tolist()\n",
    "disease_node_list = disease_nodes.values.tolist()\n",
    "compound_node_list = compound_nodes.values.tolist()"
   ]
  },
  {
   "cell_type": "code",
   "execution_count": 13,
   "metadata": {},
   "outputs": [],
   "source": [
    "#a list that holds all above lists\n",
    "total_list = [gene_node_list, anatomy_node_list,disease_node_list,compound_node_list]"
   ]
  },
  {
   "cell_type": "code",
   "execution_count": 21,
   "metadata": {},
   "outputs": [],
   "source": [
    "#iterate through the list of lists\n",
    "for kind in total_list:\n",
    "    node_commands = []\n",
    "\n",
    "    #the quotation marks give error when included in \"name\", Cypher threw an exception. Took me a while make it run\n",
    "    #iterate through each list\n",
    "    for i in kind:\n",
    "        #write cypher queries from the info in the list and add it to commands list to be executed\n",
    "        create_statement = 'create (n:' + str(i[2]) +' {node_id:\"' + str(i[0]) +'\", name:  \"' + str(i[1]) +'\"})'\n",
    "        node_commands.append(create_statement)\n",
    "    #a helper function to run the commands\n",
    "    def execute_transactions(node_commands): \n",
    "        for i in node_commands:\n",
    "            session.run(i)\n",
    "    execute_transactions(node_commands)"
   ]
  },
  {
   "cell_type": "code",
   "execution_count": 43,
   "metadata": {},
   "outputs": [
    {
     "data": {
      "text/plain": [
       "array(['GiG', 'CrC', 'DdG', 'DlA', 'CtD', 'CbG', 'CuG', 'DrD', 'DaG',\n",
       "       'CpD', 'AdG', 'AuG', 'GcG', 'Gr>G', 'CdG', 'DuG', 'AeG'],\n",
       "      dtype=object)"
      ]
     },
     "execution_count": 43,
     "metadata": {},
     "output_type": "execute_result"
    }
   ],
   "source": [
    "#this helps determine what to put for the dictionary function below\n",
    "edges['metaedge'].unique()"
   ]
  },
  {
   "cell_type": "code",
   "execution_count": 44,
   "metadata": {},
   "outputs": [
    {
     "data": {
      "text/plain": [
       "array(['INTERACTS', 'RESEMBLES', 'DOWNREGULATES', 'LOCALIZES', 'TREATS',\n",
       "       'BINDS', 'UPREGULATES', 'ASSOCIATES', 'PALLIATES', 'COVARIES',\n",
       "       'REGULATES', 'EXPRESSES'], dtype=object)"
      ]
     },
     "execution_count": 44,
     "metadata": {},
     "output_type": "execute_result"
    }
   ],
   "source": [
    "edges['relation'].unique()"
   ]
  },
  {
   "cell_type": "code",
   "execution_count": 5,
   "metadata": {},
   "outputs": [],
   "source": [
    "#a helper function acting as a dictionary for relationships. It extracting values from metaedges\n",
    "def extract_relation(metaedge):\n",
    "    if metaedge[1] == \"i\":\n",
    "        return \"INTERACTS\"\n",
    "    elif metaedge[1] == \"e\":\n",
    "        return \"EXPRESSES\"\n",
    "    elif metaedge[1:3] == \"r>\":\n",
    "        return \"REGULATES\"\n",
    "    elif metaedge[1] == \"d\":\n",
    "        return \"DOWNREGULATES\"\n",
    "    elif metaedge[1] == \"u\":\n",
    "        return \"UPREGULATES\"\n",
    "    elif metaedge[1] == \"c\":\n",
    "        return \"COVARIES\"\n",
    "    elif metaedge[1] == \"a\":\n",
    "        return \"ASSOCIATES\"\n",
    "    elif metaedge[1] == \"b\":\n",
    "        return \"BINDS\"\n",
    "    elif metaedge[1] == \"r\":\n",
    "        return \"RESEMBLES\"\n",
    "    elif metaedge[1] == \"l\":\n",
    "        return \"LOCALIZES\"\n",
    "    elif metaedge[1] == \"i\":\n",
    "        return \"INCLUDES\"\n",
    "    elif metaedge[1] == \"t\":\n",
    "        return \"TREATS\"\n",
    "    elif metaedge[1] == \"r\":\n",
    "        return \"RESEMBLES\"\n",
    "    elif metaedge[1] == \"p\":\n",
    "        return \"PALLIATES\"\n",
    "    else:\n",
    "        return \"\"\n",
    "\n",
    "#make a new column in the dataframe for easier access\n",
    "edges['relation'] = edges['metaedge'].apply(extract_relation)"
   ]
  },
  {
   "cell_type": "code",
   "execution_count": 6,
   "metadata": {},
   "outputs": [],
   "source": [
    "#break edges dataframe down to smaller dataframes for each relation, convert it to a list\n",
    "edges_palliate = edges[edges['relation'] == 'PALLIATES']\n",
    "edges_palliate_list = edges_palliate.values.tolist()\n",
    "\n",
    "edges_interact = edges[edges['relation'] == 'INTERACTS']\n",
    "edges_interact_list = edges_interact.values.tolist()\n",
    "\n",
    "edges_treat = edges[edges['relation'] == 'TREATS']\n",
    "edges_treat_list = edges_treat.values.tolist()\n",
    "\n",
    "edges_localize = edges[edges['relation'] == 'LOCALIZES']\n",
    "edges_localize_list = edges_localize.values.tolist()\n",
    "\n",
    "edges_covary = edges[edges['relation'] == 'COVARIES']\n",
    "edges_covary_list = edges_covary.values.tolist()"
   ]
  },
  {
   "cell_type": "code",
   "execution_count": 7,
   "metadata": {},
   "outputs": [],
   "source": [
    "edges_downregulate = edges[edges['relation'] == 'DOWNREGULATES']\n",
    "edges_downregulate_list = edges_downregulate.values.tolist()\n",
    "\n",
    "edges_upregulate = edges[edges['relation'] == 'UPREGULATES']\n",
    "edges_upregulate_list = edges_upregulate.values.tolist()\n",
    "\n",
    "edges_regulate = edges[edges['relation'] == 'REGULATES']\n",
    "edges_regulate_list = edges_regulate.values.tolist()\n",
    "\n",
    "edges_resemble = edges[edges['relation'] == 'RESEMBLES']\n",
    "edges_resemble_list = edges_resemble.values.tolist()\n",
    "\n",
    "edges_bind = edges[edges['relation'] == 'BINDS']\n",
    "edges_bind_list = edges_bind.values.tolist()"
   ]
  },
  {
   "cell_type": "code",
   "execution_count": 14,
   "metadata": {},
   "outputs": [],
   "source": [
    "edges_associate = edges[edges['relation'] == 'ASSOCIATES']\n",
    "edges_associate_list = edges_associate.values.tolist()"
   ]
  },
  {
   "cell_type": "code",
   "execution_count": 8,
   "metadata": {},
   "outputs": [],
   "source": [
    "#same helper function to run queries\n",
    "def execute_transactions(node_commands): \n",
    "    for i in node_commands:\n",
    "        session.run(i)"
   ]
  },
  {
   "cell_type": "code",
   "execution_count": 43,
   "metadata": {},
   "outputs": [],
   "source": [
    "#run cypher queries to create relationships\n",
    "edge_palliate_conmmands = []\n",
    "\n",
    "for i in edges_palliate_list:\n",
    "    cypher = 'MATCH (a:Compound), (b:Disease) WHERE a.node_id =\"' + str(i[0]) +'\" and b.node_id =  \"' + str(i[2]) +'\" CREATE (a)-[r:PALLIATES]->(b)'\n",
    "    edge_palliate_conmmands.append(cypher)\n",
    "\n",
    "execute_transactions(edge_palliate_conmmands)\n"
   ]
  },
  {
   "cell_type": "code",
   "execution_count": 17,
   "metadata": {},
   "outputs": [],
   "source": [
    "edge_interact_conmmands = []\n",
    "\n",
    "for i in edges_interact_list:\n",
    "    cypher = 'MATCH (a:Gene), (b:Gene) WHERE a.node_id =\"' + str(i[0]) +'\" and b.node_id =  \"' + str(i[2]) +'\" CREATE (a)-[r:INTERACTS]->(b)'\n",
    "    edge_interact_conmmands.append(cypher)\n",
    "\n",
    "execute_transactions(edge_interact_conmmands)\n"
   ]
  },
  {
   "cell_type": "code",
   "execution_count": 41,
   "metadata": {},
   "outputs": [],
   "source": [
    "edge_treat_conmmands = []\n",
    "\n",
    "for i in edges_treat_list:\n",
    "    cypher = 'MATCH (a:Compound), (b:Disease) WHERE a.node_id =\"' + str(i[0]) +'\" and b.node_id =  \"' + str(i[2]) +'\" CREATE (a)-[r:TREATS]->(b)'\n",
    "    edge_treat_conmmands.append(cypher)\n",
    "\n",
    "execute_transactions(edge_treat_conmmands)"
   ]
  },
  {
   "cell_type": "code",
   "execution_count": 42,
   "metadata": {},
   "outputs": [],
   "source": [
    "edge_localize_conmmands = []\n",
    "\n",
    "for i in edges_localize_list:\n",
    "    cypher = 'MATCH (a:Disease), (b:Anatomy) WHERE a.node_id =\"' + str(i[0]) +'\" and b.node_id =  \"' + str(i[2]) +'\" CREATE (a)-[r:LOCALIZES]->(b)'\n",
    "    edge_localize_conmmands.append(cypher)\n",
    "\n",
    "execute_transactions(edge_localize_conmmands)"
   ]
  },
  {
   "cell_type": "code",
   "execution_count": 13,
   "metadata": {},
   "outputs": [],
   "source": [
    "edge_covary_conmmands = []\n",
    "\n",
    "\n",
    "for i in edges_covary_list:\n",
    "    cypher = 'MATCH (a:Gene), (b:Gene) WHERE a.node_id =\"' + str(i[0]) +'\" and b.node_id =  \"' + str(i[2]) +'\" CREATE (a)-[r:COVARIES]->(b)'\n",
    "    edge_covary_conmmands.append(cypher)\n",
    "\n",
    "execute_transactions(edge_covary_conmmands)"
   ]
  },
  {
   "cell_type": "code",
   "execution_count": 74,
   "metadata": {},
   "outputs": [],
   "source": [
    "edge_downregulate_conmmands = []\n",
    "\n",
    "for i in edges_downregulate_list:\n",
    "    cypher = 'MATCH (a:Disease), (b:Gene) WHERE a.node_id =\"' + str(i[0]) +'\" and b.node_id =  \"' + str(i[2]) +'\" CREATE (a)-[r:DOWNREGULATES]->(b)'\n",
    "    edge_downregulate_conmmands.append(cypher)\n",
    "\n",
    "execute_transactions(edge_downregulate_conmmands)"
   ]
  },
  {
   "cell_type": "code",
   "execution_count": 9,
   "metadata": {},
   "outputs": [],
   "source": [
    "edge_downregulate_conmmands = []\n",
    "\n",
    "for i in edges_downregulate_list:\n",
    "    cypher = 'MATCH (a:Anatomy), (b:Gene) WHERE a.node_id =\"' + str(i[0]) +'\" and b.node_id =  \"' + str(i[2]) +'\" CREATE (a)-[r:DOWNREGULATES]->(b)'\n",
    "    edge_downregulate_conmmands.append(cypher)\n",
    "\n",
    "execute_transactions(edge_downregulate_conmmands)"
   ]
  },
  {
   "cell_type": "code",
   "execution_count": 11,
   "metadata": {},
   "outputs": [],
   "source": [
    "edge_downregulate_conmmands = []\n",
    "\n",
    "for i in edges_downregulate_list:\n",
    "    cypher = 'MATCH (a:Compound), (b:Gene) WHERE a.node_id =\"' + str(i[0]) +'\" and b.node_id =  \"' + str(i[2]) +'\" CREATE (a)-[r:DOWNREGULATES]->(b)'\n",
    "    edge_downregulate_conmmands.append(cypher)\n",
    "\n",
    "execute_transactions(edge_downregulate_conmmands)"
   ]
  },
  {
   "cell_type": "code",
   "execution_count": 72,
   "metadata": {},
   "outputs": [],
   "source": [
    "edge_upregulate_conmmands = []\n",
    "\n",
    "for i in edges_upregulate_list:\n",
    "    cypher = 'MATCH (a:Disease), (b:Gene) WHERE a.node_id =\"' + str(i[0]) +'\" and b.node_id =  \"' + str(i[2]) +'\" CREATE (a)-[r:UPREGULATES]->(b)'\n",
    "    edge_upregulate_conmmands.append(cypher)\n",
    "\n",
    "execute_transactions(edge_upregulate_conmmands)"
   ]
  },
  {
   "cell_type": "code",
   "execution_count": 73,
   "metadata": {},
   "outputs": [],
   "source": [
    "edge_upregulate_conmmands = []\n",
    "\n",
    "for i in edges_upregulate_list:\n",
    "    cypher = 'MATCH (a:Anatomy), (b:Gene) WHERE a.node_id =\"' + str(i[0]) +'\" and b.node_id =  \"' + str(i[2]) +'\" CREATE (a)-[r:UPREGULATES]->(b)'\n",
    "    edge_upregulate_conmmands.append(cypher)\n",
    "\n",
    "execute_transactions(edge_upregulate_conmmands)"
   ]
  },
  {
   "cell_type": "code",
   "execution_count": 12,
   "metadata": {},
   "outputs": [],
   "source": [
    "edge_upregulate_conmmands = []\n",
    "\n",
    "for i in edges_upregulate_list:\n",
    "    cypher = 'MATCH (a:Compound), (b:Gene) WHERE a.node_id =\"' + str(i[0]) +'\" and b.node_id =  \"' + str(i[2]) +'\" CREATE (a)-[r:UPREGULATES]->(b)'\n",
    "    edge_upregulate_conmmands.append(cypher)\n",
    "\n",
    "execute_transactions(edge_upregulate_conmmands)"
   ]
  },
  {
   "cell_type": "code",
   "execution_count": 71,
   "metadata": {},
   "outputs": [],
   "source": [
    "edge_resemble_conmmands = []\n",
    "\n",
    "for i in edges_resemble_list:\n",
    "    cypher = 'MATCH (a:Compound), (b:Compound) WHERE a.node_id =\"' + str(i[0]) +'\" and b.node_id =  \"' + str(i[2]) +'\" CREATE (a)-[r:RESEMBLES]->(b)'\n",
    "    edge_resemble_conmmands.append(cypher)\n",
    "\n",
    "execute_transactions(edge_resemble_conmmands)"
   ]
  },
  {
   "cell_type": "code",
   "execution_count": null,
   "metadata": {},
   "outputs": [],
   "source": [
    "edge_regulate_conmmands = []\n",
    "\n",
    "for i in edges_regulate_list:\n",
    "    cypher = 'MATCH (a:Gene), (b:Gene) WHERE a.node_id =\"' + str(i[0]) +'\" and b.node_id =  \"' + str(i[2]) +'\" CREATE (a)-[r:REGULATES]->(b)'\n",
    "    edge_regulate_conmmands.append(cypher)\n",
    "\n",
    "execute_transactions(edge_regulate_conmmands)"
   ]
  },
  {
   "cell_type": "code",
   "execution_count": 70,
   "metadata": {},
   "outputs": [],
   "source": [
    "edge_bind_conmmands = []\n",
    "\n",
    "for i in edges_bind_list:\n",
    "    cypher = 'MATCH (a:Compound), (b:Gene) WHERE a.node_id =\"' + str(i[0]) +'\" and b.node_id =  \"' + str(i[2]) +'\" CREATE (a)-[r:BINDS]->(b)'\n",
    "    edge_bind_conmmands.append(cypher)\n",
    "\n",
    "execute_transactions(edge_bind_conmmands)"
   ]
  },
  {
   "cell_type": "code",
   "execution_count": 15,
   "metadata": {},
   "outputs": [],
   "source": [
    "edge_associate_conmmands = []\n",
    "\n",
    "for i in edges_associate_list:\n",
    "    cypher = 'MATCH (a:Disease), (b:Gene) WHERE a.node_id =\"' + str(i[0]) +'\" and b.node_id =  \"' + str(i[2]) +'\" CREATE (a)-[r:ASSOCIATES]->(b)'\n",
    "    edge_associate_conmmands.append(cypher)\n",
    "\n",
    "execute_transactions(edge_associate_conmmands)"
   ]
  },
  {
   "cell_type": "code",
   "execution_count": null,
   "metadata": {},
   "outputs": [],
   "source": []
  },
  {
   "cell_type": "code",
   "execution_count": null,
   "metadata": {},
   "outputs": [],
   "source": [
    "#query for #1 to be run neo4j (id: Disease::DOID:1781)\n",
    "match (c:Compound)-[relatedTo]->(d:Disease {name: \"thyroid cancer\"}),(d:Disease \\\n",
    "{name: \"thyroid cancer\"})-[r:LOCALIZES]->(a:Anatomy) return c.name, type(relatedTo), d.name ,type(r), a.name"
   ]
  },
  {
   "cell_type": "code",
   "execution_count": 38,
   "metadata": {},
   "outputs": [],
   "source": [
    "#query for #1 to be run from Python\n",
    "query_for_q1 = 'match (c:Compound)-[relatedTo]->(d:Disease {name: \\\"thyroid cancer\\\"}),(d:Disease {name: \\\"thyroid cancer\\\"})-[r:LOCALIZES]->(a:Anatomy) return c.name, type(relatedTo), d.name ,type(r), a.name'"
   ]
  },
  {
   "cell_type": "code",
   "execution_count": 40,
   "metadata": {},
   "outputs": [
    {
     "data": {
      "text/plain": [
       "'match (c:Compound)-[relatedTo]->(d:Disease {name: \"thyroid cancer\"}),(d:Disease {name: \"thyroid cancer\"})-[r:LOCALIZES]->(a:Anatomy) return c.name, type(relatedTo), d.name ,type(r), a.name'"
      ]
     },
     "execution_count": 40,
     "metadata": {},
     "output_type": "execute_result"
    }
   ],
   "source": [
    "query_for_q1"
   ]
  },
  {
   "cell_type": "code",
   "execution_count": 37,
   "metadata": {},
   "outputs": [
    {
     "data": {
      "text/plain": [
       "[<Record c.name='Sorafenib' type(relatedTo)='TREATS' d.name='thyroid cancer' type(r)='LOCALIZES' a.name='anterior vena cava'>,\n",
       " <Record c.name='Sorafenib' type(relatedTo)='TREATS' d.name='thyroid cancer' type(r)='LOCALIZES' a.name='saliva-secreting gland'>,\n",
       " <Record c.name='Sorafenib' type(relatedTo)='TREATS' d.name='thyroid cancer' type(r)='LOCALIZES' a.name='neck'>,\n",
       " <Record c.name='Sorafenib' type(relatedTo)='TREATS' d.name='thyroid cancer' type(r)='LOCALIZES' a.name='hyoid bone'>,\n",
       " <Record c.name='Sorafenib' type(relatedTo)='TREATS' d.name='thyroid cancer' type(r)='LOCALIZES' a.name='lymph node'>,\n",
       " <Record c.name='Sorafenib' type(relatedTo)='TREATS' d.name='thyroid cancer' type(r)='LOCALIZES' a.name='subclavian vein'>,\n",
       " <Record c.name='Sorafenib' type(relatedTo)='TREATS' d.name='thyroid cancer' type(r)='LOCALIZES' a.name='parathyroid gland'>,\n",
       " <Record c.name='Sorafenib' type(relatedTo)='TREATS' d.name='thyroid cancer' type(r)='LOCALIZES' a.name='ultimobranchial body'>,\n",
       " <Record c.name='Sorafenib' type(relatedTo)='TREATS' d.name='thyroid cancer' type(r)='LOCALIZES' a.name='sternum'>,\n",
       " <Record c.name='Sorafenib' type(relatedTo)='TREATS' d.name='thyroid cancer' type(r)='LOCALIZES' a.name='nasolacrimal duct'>,\n",
       " <Record c.name='Sorafenib' type(relatedTo)='TREATS' d.name='thyroid cancer' type(r)='LOCALIZES' a.name='larynx'>,\n",
       " <Record c.name='Sorafenib' type(relatedTo)='TREATS' d.name='thyroid cancer' type(r)='LOCALIZES' a.name='muscle of neck'>,\n",
       " <Record c.name='Sorafenib' type(relatedTo)='TREATS' d.name='thyroid cancer' type(r)='LOCALIZES' a.name='trachea'>,\n",
       " <Record c.name='Sorafenib' type(relatedTo)='TREATS' d.name='thyroid cancer' type(r)='LOCALIZES' a.name='head'>,\n",
       " <Record c.name='Sorafenib' type(relatedTo)='TREATS' d.name='thyroid cancer' type(r)='LOCALIZES' a.name='thyroid gland'>,\n",
       " <Record c.name='Epirubicin' type(relatedTo)='TREATS' d.name='thyroid cancer' type(r)='LOCALIZES' a.name='anterior vena cava'>,\n",
       " <Record c.name='Epirubicin' type(relatedTo)='TREATS' d.name='thyroid cancer' type(r)='LOCALIZES' a.name='saliva-secreting gland'>,\n",
       " <Record c.name='Epirubicin' type(relatedTo)='TREATS' d.name='thyroid cancer' type(r)='LOCALIZES' a.name='neck'>,\n",
       " <Record c.name='Epirubicin' type(relatedTo)='TREATS' d.name='thyroid cancer' type(r)='LOCALIZES' a.name='hyoid bone'>,\n",
       " <Record c.name='Epirubicin' type(relatedTo)='TREATS' d.name='thyroid cancer' type(r)='LOCALIZES' a.name='lymph node'>,\n",
       " <Record c.name='Epirubicin' type(relatedTo)='TREATS' d.name='thyroid cancer' type(r)='LOCALIZES' a.name='subclavian vein'>,\n",
       " <Record c.name='Epirubicin' type(relatedTo)='TREATS' d.name='thyroid cancer' type(r)='LOCALIZES' a.name='parathyroid gland'>,\n",
       " <Record c.name='Epirubicin' type(relatedTo)='TREATS' d.name='thyroid cancer' type(r)='LOCALIZES' a.name='ultimobranchial body'>,\n",
       " <Record c.name='Epirubicin' type(relatedTo)='TREATS' d.name='thyroid cancer' type(r)='LOCALIZES' a.name='sternum'>,\n",
       " <Record c.name='Epirubicin' type(relatedTo)='TREATS' d.name='thyroid cancer' type(r)='LOCALIZES' a.name='nasolacrimal duct'>,\n",
       " <Record c.name='Epirubicin' type(relatedTo)='TREATS' d.name='thyroid cancer' type(r)='LOCALIZES' a.name='larynx'>,\n",
       " <Record c.name='Epirubicin' type(relatedTo)='TREATS' d.name='thyroid cancer' type(r)='LOCALIZES' a.name='muscle of neck'>,\n",
       " <Record c.name='Epirubicin' type(relatedTo)='TREATS' d.name='thyroid cancer' type(r)='LOCALIZES' a.name='trachea'>,\n",
       " <Record c.name='Epirubicin' type(relatedTo)='TREATS' d.name='thyroid cancer' type(r)='LOCALIZES' a.name='head'>,\n",
       " <Record c.name='Epirubicin' type(relatedTo)='TREATS' d.name='thyroid cancer' type(r)='LOCALIZES' a.name='thyroid gland'>,\n",
       " <Record c.name='Doxorubicin' type(relatedTo)='TREATS' d.name='thyroid cancer' type(r)='LOCALIZES' a.name='anterior vena cava'>,\n",
       " <Record c.name='Doxorubicin' type(relatedTo)='TREATS' d.name='thyroid cancer' type(r)='LOCALIZES' a.name='saliva-secreting gland'>,\n",
       " <Record c.name='Doxorubicin' type(relatedTo)='TREATS' d.name='thyroid cancer' type(r)='LOCALIZES' a.name='neck'>,\n",
       " <Record c.name='Doxorubicin' type(relatedTo)='TREATS' d.name='thyroid cancer' type(r)='LOCALIZES' a.name='hyoid bone'>,\n",
       " <Record c.name='Doxorubicin' type(relatedTo)='TREATS' d.name='thyroid cancer' type(r)='LOCALIZES' a.name='lymph node'>,\n",
       " <Record c.name='Doxorubicin' type(relatedTo)='TREATS' d.name='thyroid cancer' type(r)='LOCALIZES' a.name='subclavian vein'>,\n",
       " <Record c.name='Doxorubicin' type(relatedTo)='TREATS' d.name='thyroid cancer' type(r)='LOCALIZES' a.name='parathyroid gland'>,\n",
       " <Record c.name='Doxorubicin' type(relatedTo)='TREATS' d.name='thyroid cancer' type(r)='LOCALIZES' a.name='ultimobranchial body'>,\n",
       " <Record c.name='Doxorubicin' type(relatedTo)='TREATS' d.name='thyroid cancer' type(r)='LOCALIZES' a.name='sternum'>,\n",
       " <Record c.name='Doxorubicin' type(relatedTo)='TREATS' d.name='thyroid cancer' type(r)='LOCALIZES' a.name='nasolacrimal duct'>,\n",
       " <Record c.name='Doxorubicin' type(relatedTo)='TREATS' d.name='thyroid cancer' type(r)='LOCALIZES' a.name='larynx'>,\n",
       " <Record c.name='Doxorubicin' type(relatedTo)='TREATS' d.name='thyroid cancer' type(r)='LOCALIZES' a.name='muscle of neck'>,\n",
       " <Record c.name='Doxorubicin' type(relatedTo)='TREATS' d.name='thyroid cancer' type(r)='LOCALIZES' a.name='trachea'>,\n",
       " <Record c.name='Doxorubicin' type(relatedTo)='TREATS' d.name='thyroid cancer' type(r)='LOCALIZES' a.name='head'>,\n",
       " <Record c.name='Doxorubicin' type(relatedTo)='TREATS' d.name='thyroid cancer' type(r)='LOCALIZES' a.name='thyroid gland'>,\n",
       " <Record c.name='Vandetanib' type(relatedTo)='TREATS' d.name='thyroid cancer' type(r)='LOCALIZES' a.name='anterior vena cava'>,\n",
       " <Record c.name='Vandetanib' type(relatedTo)='TREATS' d.name='thyroid cancer' type(r)='LOCALIZES' a.name='saliva-secreting gland'>,\n",
       " <Record c.name='Vandetanib' type(relatedTo)='TREATS' d.name='thyroid cancer' type(r)='LOCALIZES' a.name='neck'>,\n",
       " <Record c.name='Vandetanib' type(relatedTo)='TREATS' d.name='thyroid cancer' type(r)='LOCALIZES' a.name='hyoid bone'>,\n",
       " <Record c.name='Vandetanib' type(relatedTo)='TREATS' d.name='thyroid cancer' type(r)='LOCALIZES' a.name='lymph node'>,\n",
       " <Record c.name='Vandetanib' type(relatedTo)='TREATS' d.name='thyroid cancer' type(r)='LOCALIZES' a.name='subclavian vein'>,\n",
       " <Record c.name='Vandetanib' type(relatedTo)='TREATS' d.name='thyroid cancer' type(r)='LOCALIZES' a.name='parathyroid gland'>,\n",
       " <Record c.name='Vandetanib' type(relatedTo)='TREATS' d.name='thyroid cancer' type(r)='LOCALIZES' a.name='ultimobranchial body'>,\n",
       " <Record c.name='Vandetanib' type(relatedTo)='TREATS' d.name='thyroid cancer' type(r)='LOCALIZES' a.name='sternum'>,\n",
       " <Record c.name='Vandetanib' type(relatedTo)='TREATS' d.name='thyroid cancer' type(r)='LOCALIZES' a.name='nasolacrimal duct'>,\n",
       " <Record c.name='Vandetanib' type(relatedTo)='TREATS' d.name='thyroid cancer' type(r)='LOCALIZES' a.name='larynx'>,\n",
       " <Record c.name='Vandetanib' type(relatedTo)='TREATS' d.name='thyroid cancer' type(r)='LOCALIZES' a.name='muscle of neck'>,\n",
       " <Record c.name='Vandetanib' type(relatedTo)='TREATS' d.name='thyroid cancer' type(r)='LOCALIZES' a.name='trachea'>,\n",
       " <Record c.name='Vandetanib' type(relatedTo)='TREATS' d.name='thyroid cancer' type(r)='LOCALIZES' a.name='head'>,\n",
       " <Record c.name='Vandetanib' type(relatedTo)='TREATS' d.name='thyroid cancer' type(r)='LOCALIZES' a.name='thyroid gland'>]"
      ]
     },
     "execution_count": 37,
     "metadata": {},
     "output_type": "execute_result"
    }
   ],
   "source": [
    "#60 results were retrieved from the Database for thyroid cancer, id: Disease::DOID:1781\n",
    "result = list(session.run(query_for_q1))\n",
    "result"
   ]
  },
  {
   "cell_type": "code",
   "execution_count": 46,
   "metadata": {},
   "outputs": [
    {
     "data": {
      "text/html": [
       "<div>\n",
       "<style scoped>\n",
       "    .dataframe tbody tr th:only-of-type {\n",
       "        vertical-align: middle;\n",
       "    }\n",
       "\n",
       "    .dataframe tbody tr th {\n",
       "        vertical-align: top;\n",
       "    }\n",
       "\n",
       "    .dataframe thead th {\n",
       "        text-align: right;\n",
       "    }\n",
       "</style>\n",
       "<table border=\"1\" class=\"dataframe\">\n",
       "  <thead>\n",
       "    <tr style=\"text-align: right;\">\n",
       "      <th></th>\n",
       "      <th>id</th>\n",
       "      <th>name</th>\n",
       "      <th>kind</th>\n",
       "    </tr>\n",
       "  </thead>\n",
       "  <tbody>\n",
       "    <tr>\n",
       "      <th>2081</th>\n",
       "      <td>Disease::DOID:9008</td>\n",
       "      <td>psoriatic arthritis</td>\n",
       "      <td>Disease</td>\n",
       "    </tr>\n",
       "    <tr>\n",
       "      <th>2082</th>\n",
       "      <td>Disease::DOID:9074</td>\n",
       "      <td>systemic lupus erythematosus</td>\n",
       "      <td>Disease</td>\n",
       "    </tr>\n",
       "    <tr>\n",
       "      <th>2083</th>\n",
       "      <td>Disease::DOID:9206</td>\n",
       "      <td>Barrett's esophagus</td>\n",
       "      <td>Disease</td>\n",
       "    </tr>\n",
       "    <tr>\n",
       "      <th>2084</th>\n",
       "      <td>Disease::DOID:9296</td>\n",
       "      <td>cleft lip</td>\n",
       "      <td>Disease</td>\n",
       "    </tr>\n",
       "    <tr>\n",
       "      <th>2085</th>\n",
       "      <td>Disease::DOID:9352</td>\n",
       "      <td>type 2 diabetes mellitus</td>\n",
       "      <td>Disease</td>\n",
       "    </tr>\n",
       "    <tr>\n",
       "      <th>2086</th>\n",
       "      <td>Disease::DOID:9744</td>\n",
       "      <td>type 1 diabetes mellitus</td>\n",
       "      <td>Disease</td>\n",
       "    </tr>\n",
       "    <tr>\n",
       "      <th>2087</th>\n",
       "      <td>Disease::DOID:9835</td>\n",
       "      <td>refractive error</td>\n",
       "      <td>Disease</td>\n",
       "    </tr>\n",
       "    <tr>\n",
       "      <th>2088</th>\n",
       "      <td>Disease::DOID:986</td>\n",
       "      <td>alopecia areata</td>\n",
       "      <td>Disease</td>\n",
       "    </tr>\n",
       "    <tr>\n",
       "      <th>2089</th>\n",
       "      <td>Disease::DOID:9917</td>\n",
       "      <td>pleural cancer</td>\n",
       "      <td>Disease</td>\n",
       "    </tr>\n",
       "    <tr>\n",
       "      <th>2090</th>\n",
       "      <td>Disease::DOID:9970</td>\n",
       "      <td>obesity</td>\n",
       "      <td>Disease</td>\n",
       "    </tr>\n",
       "  </tbody>\n",
       "</table>\n",
       "</div>"
      ],
      "text/plain": [
       "                      id                          name     kind\n",
       "2081  Disease::DOID:9008           psoriatic arthritis  Disease\n",
       "2082  Disease::DOID:9074  systemic lupus erythematosus  Disease\n",
       "2083  Disease::DOID:9206           Barrett's esophagus  Disease\n",
       "2084  Disease::DOID:9296                     cleft lip  Disease\n",
       "2085  Disease::DOID:9352      type 2 diabetes mellitus  Disease\n",
       "2086  Disease::DOID:9744      type 1 diabetes mellitus  Disease\n",
       "2087  Disease::DOID:9835              refractive error  Disease\n",
       "2088   Disease::DOID:986               alopecia areata  Disease\n",
       "2089  Disease::DOID:9917                pleural cancer  Disease\n",
       "2090  Disease::DOID:9970                       obesity  Disease"
      ]
     },
     "execution_count": 46,
     "metadata": {},
     "output_type": "execute_result"
    }
   ],
   "source": [
    "disease_nodes.tail(10)"
   ]
  },
  {
   "cell_type": "code",
   "execution_count": 48,
   "metadata": {},
   "outputs": [
    {
     "data": {
      "text/plain": [
       "(1292203, 4)"
      ]
     },
     "execution_count": 48,
     "metadata": {},
     "output_type": "execute_result"
    }
   ],
   "source": [
    "edges.shape"
   ]
  },
  {
   "cell_type": "code",
   "execution_count": 49,
   "metadata": {},
   "outputs": [
    {
     "data": {
      "text/html": [
       "<div>\n",
       "<style scoped>\n",
       "    .dataframe tbody tr th:only-of-type {\n",
       "        vertical-align: middle;\n",
       "    }\n",
       "\n",
       "    .dataframe tbody tr th {\n",
       "        vertical-align: top;\n",
       "    }\n",
       "\n",
       "    .dataframe thead th {\n",
       "        text-align: right;\n",
       "    }\n",
       "</style>\n",
       "<table border=\"1\" class=\"dataframe\">\n",
       "  <thead>\n",
       "    <tr style=\"text-align: right;\">\n",
       "      <th></th>\n",
       "      <th>id</th>\n",
       "      <th>name</th>\n",
       "      <th>kind</th>\n",
       "    </tr>\n",
       "  </thead>\n",
       "  <tbody>\n",
       "    <tr>\n",
       "      <th>402</th>\n",
       "      <td>Compound::DB00014</td>\n",
       "      <td>Goserelin</td>\n",
       "      <td>Compound</td>\n",
       "    </tr>\n",
       "    <tr>\n",
       "      <th>403</th>\n",
       "      <td>Compound::DB00035</td>\n",
       "      <td>Desmopressin</td>\n",
       "      <td>Compound</td>\n",
       "    </tr>\n",
       "    <tr>\n",
       "      <th>404</th>\n",
       "      <td>Compound::DB00050</td>\n",
       "      <td>Cetrorelix</td>\n",
       "      <td>Compound</td>\n",
       "    </tr>\n",
       "    <tr>\n",
       "      <th>405</th>\n",
       "      <td>Compound::DB00091</td>\n",
       "      <td>Cyclosporine</td>\n",
       "      <td>Compound</td>\n",
       "    </tr>\n",
       "    <tr>\n",
       "      <th>406</th>\n",
       "      <td>Compound::DB00093</td>\n",
       "      <td>Felypressin</td>\n",
       "      <td>Compound</td>\n",
       "    </tr>\n",
       "    <tr>\n",
       "      <th>407</th>\n",
       "      <td>Compound::DB00104</td>\n",
       "      <td>Octreotide</td>\n",
       "      <td>Compound</td>\n",
       "    </tr>\n",
       "    <tr>\n",
       "      <th>408</th>\n",
       "      <td>Compound::DB00115</td>\n",
       "      <td>Cyanocobalamin</td>\n",
       "      <td>Compound</td>\n",
       "    </tr>\n",
       "    <tr>\n",
       "      <th>409</th>\n",
       "      <td>Compound::DB00116</td>\n",
       "      <td>Tetrahydrofolic acid</td>\n",
       "      <td>Compound</td>\n",
       "    </tr>\n",
       "    <tr>\n",
       "      <th>410</th>\n",
       "      <td>Compound::DB00117</td>\n",
       "      <td>L-Histidine</td>\n",
       "      <td>Compound</td>\n",
       "    </tr>\n",
       "    <tr>\n",
       "      <th>411</th>\n",
       "      <td>Compound::DB00118</td>\n",
       "      <td>S-Adenosylmethionine</td>\n",
       "      <td>Compound</td>\n",
       "    </tr>\n",
       "  </tbody>\n",
       "</table>\n",
       "</div>"
      ],
      "text/plain": [
       "                    id                  name      kind\n",
       "402  Compound::DB00014             Goserelin  Compound\n",
       "403  Compound::DB00035          Desmopressin  Compound\n",
       "404  Compound::DB00050            Cetrorelix  Compound\n",
       "405  Compound::DB00091          Cyclosporine  Compound\n",
       "406  Compound::DB00093           Felypressin  Compound\n",
       "407  Compound::DB00104            Octreotide  Compound\n",
       "408  Compound::DB00115        Cyanocobalamin  Compound\n",
       "409  Compound::DB00116  Tetrahydrofolic acid  Compound\n",
       "410  Compound::DB00117           L-Histidine  Compound\n",
       "411  Compound::DB00118  S-Adenosylmethionine  Compound"
      ]
     },
     "execution_count": 49,
     "metadata": {},
     "output_type": "execute_result"
    }
   ],
   "source": [
    "compound_nodes.head(10)"
   ]
  },
  {
   "cell_type": "code",
   "execution_count": null,
   "metadata": {},
   "outputs": [],
   "source": [
    "#attemped query for #2\n",
    "match (c1:Compound {name: \"Sorafenib\"}),(c2:Compound),(d:Disease {name:\"thyroid cancer\"}),(g:Gene)\n",
    "where (c1)-[:RESEMBLES]-(c2) and\n",
    "((c1)-[:DOWNREGULATES]->(g) or (c2)-[:UPREGULATES]->(g))\n",
    "return (c2.name)"
   ]
  },
  {
   "cell_type": "code",
   "execution_count": null,
   "metadata": {},
   "outputs": [],
   "source": [
    "match (c1:Compound {name: \"Sorafenib\"})-[:RESEMBLES]-(c2:Compound), (c2)-[relatedTo]->(g:Gene), (c1)-[TREATS]-(d:Disease {name:\"thyroid cancer\"}) return c2"
   ]
  }
 ],
 "metadata": {
  "kernelspec": {
   "display_name": "Python 3",
   "language": "python",
   "name": "python3"
  },
  "language_info": {
   "codemirror_mode": {
    "name": "ipython",
    "version": 3
   },
   "file_extension": ".py",
   "mimetype": "text/x-python",
   "name": "python",
   "nbconvert_exporter": "python",
   "pygments_lexer": "ipython3",
   "version": "3.6.8"
  }
 },
 "nbformat": 4,
 "nbformat_minor": 2
}
